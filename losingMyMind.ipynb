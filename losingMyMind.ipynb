{
 "cells": [
  {
   "cell_type": "code",
   "execution_count": 12,
   "metadata": {},
   "outputs": [
    {
     "name": "stdout",
     "output_type": "stream",
     "text": [
      "gzip: /home/pes1ug22am100/Documents/Research and Experimentation/NetworkAnalysis/equinix_nyc_data/equinix-nyc.dirA.20190117-130000.UTC.anon.pcap.gz: No such file or directory\n"
     ]
    }
   ],
   "source": [
    "# !gzip -d \"/home/pes1ug22am100/Documents/Research and Experimentation/NetworkAnalysis/equinix_nyc_data/equinix-nyc.dirA.20190117-130000.UTC.anon.pcap.gz\"\n",
    "# I unzipped this via terminal\n",
    "\n",
    "# skip this now cuz files are already unzipped"
   ]
  },
  {
   "cell_type": "code",
   "execution_count": 13,
   "metadata": {},
   "outputs": [
    {
     "name": "stdout",
     "output_type": "stream",
     "text": [
      "reading from file /home/pes1ug22am100/Documents/Research and Experimentation/NetworkAnalysis/equinix_nyc_data/equinix-nyc.dirA.20190117-125910.UTC.anon.pcap, link-type RAW (Raw IP), snapshot length 65536\n"
     ]
    }
   ],
   "source": [
    "!tcpdump -r \"/home/pes1ug22am100/Documents/Research and Experimentation/NetworkAnalysis/equinix_nyc_data/equinix-nyc.dirA.20190117-125910.UTC.anon.pcap\" -w \"/home/pes1ug22am100/Documents/Research and Experimentation/NetworkAnalysis/chonky_130000/chunked_file.pcap\" -C 100\n",
    "# this is to chunk into 100mb\n",
    "# make sure to change directiry name\n",
    "# I'm keeping the format as chonky_<fileID>"
   ]
  },
  {
   "cell_type": "code",
   "execution_count": 14,
   "metadata": {},
   "outputs": [],
   "source": [
    "import pyshark\n",
    "import nest_asyncio\n",
    "import csv"
   ]
  },
  {
   "cell_type": "code",
   "execution_count": 15,
   "metadata": {},
   "outputs": [],
   "source": [
    "# Apply the nested asyncio patch cuz jupyter's weird\n",
    "nest_asyncio.apply()"
   ]
  },
  {
   "cell_type": "code",
   "execution_count": 16,
   "metadata": {},
   "outputs": [],
   "source": [
    "pcap_path = '/home/pes1ug22am100/Documents/Research and Experimentation/NetworkAnalysis/chonky_130000/chunked_file.pcap'"
   ]
  },
  {
   "cell_type": "code",
   "execution_count": 17,
   "metadata": {},
   "outputs": [
    {
     "name": "stdout",
     "output_type": "stream",
     "text": [
      "Packet 1:\n",
      "  Timestamp: 2019-01-17 18:29:10.467105\n",
      "  Source: 26.120.99.176\n",
      "  Destination: 175.84.134.113\n",
      "  Protocol: TCP\n",
      "  Length: 1504\n",
      "Packet 2:\n",
      "  Timestamp: 2019-01-17 18:29:10.467106\n",
      "  Source: 181.47.185.47\n",
      "  Destination: 30.241.116.225\n",
      "  Protocol: TCP\n",
      "  Length: 56\n",
      "Packet 3:\n",
      "  Timestamp: 2019-01-17 18:29:10.467106\n",
      "  Source: 169.85.223.179\n",
      "  Destination: 136.127.65.205\n",
      "  Protocol: TCP\n",
      "  Length: 1484\n",
      "Packet 4:\n",
      "  Timestamp: 2019-01-17 18:29:10.467107\n",
      "  Source: 169.85.223.179\n",
      "  Destination: 136.127.65.205\n",
      "  Protocol: TCP\n",
      "  Length: 1484\n",
      "Packet 5:\n",
      "  Timestamp: 2019-01-17 18:29:10.467108\n",
      "  Source: 42.27.128.236\n",
      "  Destination: 180.211.115.195\n",
      "  Protocol: _WS.SHORT\n",
      "  Length: 1470\n"
     ]
    }
   ],
   "source": [
    "# Read the chunk\n",
    "cap = pyshark.FileCapture(pcap_path)\n",
    "\n",
    "for i, packet in enumerate(cap):\n",
    "    try:\n",
    "        print(f\"Packet {i+1}:\")\n",
    "        print(f\"  Timestamp: {packet.sniff_time}\")\n",
    "        print(f\"  Source: {packet.ip.src}\")\n",
    "        print(f\"  Destination: {packet.ip.dst}\")\n",
    "        print(f\"  Protocol: {packet.highest_layer}\")\n",
    "        print(f\"  Length: {packet.length}\")\n",
    "    except AttributeError:\n",
    "        print(f\"  Packet {i+1}: Missing IP information\")\n",
    "    if i >= 4:  # top 5 packets\n",
    "        break\n"
   ]
  },
  {
   "cell_type": "code",
   "execution_count": 19,
   "metadata": {},
   "outputs": [],
   "source": [
    "output_file = \"/home/pes1ug22am100/Documents/Research and Experimentation/NetworkAnalysis/CSVdata/dirA.130000-packets.csv\"\n",
    "with open(output_file, mode=\"w\", newline=\"\") as file:\n",
    "    writer = csv.writer(file)\n",
    "    writer.writerow([\"Timestamp\", \"Source\", \"Destination\", \"Protocol\", \"Length\"])\n",
    "    \n",
    "    for i, packet in enumerate(cap):\n",
    "        try:\n",
    "            writer.writerow([\n",
    "                packet.sniff_time,\n",
    "                packet.ip.src,\n",
    "                packet.ip.dst,\n",
    "                packet.highest_layer,\n",
    "                packet.length,\n",
    "            ])\n",
    "        except AttributeError:\n",
    "            # Handle packets that might not have IP or other fields\n",
    "            continue\n",
    "\n",
    "print(f\"Packet details saved to {output_file}\")"
   ]
  },
  {
   "cell_type": "code",
   "execution_count": null,
   "metadata": {},
   "outputs": [],
   "source": []
  }
 ],
 "metadata": {
  "kernelspec": {
   "display_name": "Python 3",
   "language": "python",
   "name": "python3"
  },
  "language_info": {
   "codemirror_mode": {
    "name": "ipython",
    "version": 3
   },
   "file_extension": ".py",
   "mimetype": "text/x-python",
   "name": "python",
   "nbconvert_exporter": "python",
   "pygments_lexer": "ipython3",
   "version": "3.10.12"
  }
 },
 "nbformat": 4,
 "nbformat_minor": 2
}
